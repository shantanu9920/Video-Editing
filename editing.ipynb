{
 "cells": [
  {
   "cell_type": "code",
   "execution_count": null,
   "metadata": {},
   "outputs": [],
   "source": [
    "from ffmpy import FFmpeg\n",
    "import os\n",
    "import re\n",
    "import timeit\n",
    "from moviepy.editor import VideoFileClip,concatenate_videoclips\n",
    "\n",
    "# Make sure there is one one video file in the folder.\n",
    "\n",
    "path = '/home/shantanu/Documents/Video Editing'\n",
    "for filename in os.listdir(path):\n",
    "    if(filename.endswith(\".mp4\")):\n",
    "        os.system(\"ffmpeg -i {0} -af silencedetect=noise=-30dB:d=0.5 -f null - 2> vol.txt\".format(filename))\n",
    "    else:\n",
    "        continue\n",
    "        \n",
    "l1 = []\n",
    "l2 = []\n",
    "\n",
    "with open(\"vol.txt\") as f:\n",
    "    for line in f:\n",
    "        \n",
    "        ms = re.search(\".* silence_start: (.*)\", line)\n",
    "        if ms:\n",
    "            l1.append(ms.group(1))\n",
    "        \n",
    "        me = re.search(\".* silence_end: (.*?) .*\",line)\n",
    "        if me:\n",
    "            l2.append(me.group(1))\n",
    "            \n",
    "video = VideoFileClip('input.mp4')\n",
    "clips_array = []\n",
    "            \n",
    "for i in range(len(l1)-1):\n",
    "    clip = video.subclip(float(l2[i]),float(l1[i+1]))\n",
    "    clips_array.append(clip)\n",
    "\n",
    "    \n",
    "final_clip = concatenate_videoclips(clips_array)\n",
    "final_clip.write_videofile(\"output.mp4\")\n"
   ]
  }
 ],
 "metadata": {
  "kernelspec": {
   "display_name": "Python 3",
   "language": "python",
   "name": "python3"
  },
  "language_info": {
   "codemirror_mode": {
    "name": "ipython",
    "version": 3
   },
   "file_extension": ".py",
   "mimetype": "text/x-python",
   "name": "python",
   "nbconvert_exporter": "python",
   "pygments_lexer": "ipython3",
   "version": "3.6.3"
  }
 },
 "nbformat": 4,
 "nbformat_minor": 2
}
