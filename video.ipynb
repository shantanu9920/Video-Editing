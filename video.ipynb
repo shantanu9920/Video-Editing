{
 "cells": [
  {
   "cell_type": "code",
   "execution_count": 1,
   "metadata": {},
   "outputs": [
    {
     "name": "stdout",
     "output_type": "stream",
     "text": [
      "input.mp4\n"
     ]
    }
   ],
   "source": [
    "from ffmpy import FFmpeg\n",
    "import os\n",
    "\n",
    "path = '/home/shantanu/Documents/Video Editing'\n",
    "for filename in os.listdir(path):\n",
    "    if(filename.endswith(\".mp4\")):\n",
    "        #os.system(\"ffmpeg -i {0} -af silencedetect=noise=-30dB:d=0.5 -f null - 2> l.txt\".format(filename))\n",
    "        print(filename)\n",
    "    else:\n",
    "        continue"
   ]
  },
  {
   "cell_type": "code",
   "execution_count": null,
   "metadata": {},
   "outputs": [],
   "source": []
  }
 ],
 "metadata": {
  "kernelspec": {
   "display_name": "Python 3",
   "language": "python",
   "name": "python3"
  },
  "language_info": {
   "codemirror_mode": {
    "name": "ipython",
    "version": 3
   },
   "file_extension": ".py",
   "mimetype": "text/x-python",
   "name": "python",
   "nbconvert_exporter": "python",
   "pygments_lexer": "ipython3",
   "version": "3.6.3"
  }
 },
 "nbformat": 4,
 "nbformat_minor": 2
}
